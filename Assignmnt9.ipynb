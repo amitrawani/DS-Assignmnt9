{
 "cells": [
  {
   "cell_type": "code",
   "execution_count": null,
   "id": "ea67c2ee-402d-4301-a127-d6172496b3a3",
   "metadata": {},
   "outputs": [],
   "source": [
    "Q1. What is Abstraction in OOPs? Explain with an example.\n",
    "\n",
    "Ans: Abstraction is a fundamental concept in object-oriented programming (OOP) that focuses on hiding unnecessary details \n",
    "and exposing only essential features of an object. It allows us to create complex systems by breaking them down into smaller,\n",
    "more manageable components."
   ]
  },
  {
   "cell_type": "code",
   "execution_count": 1,
   "id": "b5eb9f65-0e5b-4fad-afe3-027b01bb25a4",
   "metadata": {},
   "outputs": [
    {
     "name": "stdout",
     "output_type": "stream",
     "text": [
      "20\n",
      "28.26\n"
     ]
    }
   ],
   "source": [
    "# For Ex:\n",
    "from abc import ABC, abstractmethod\n",
    "\n",
    "class Shape(ABC):\n",
    "\n",
    "    @abstractmethod\n",
    "    def calculate_area(self):\n",
    "        pass\n",
    "\n",
    "class Rectangle(Shape):\n",
    "\n",
    "    def __init__(self, length, width):\n",
    "        self.length = length\n",
    "        self.width = width\n",
    "\n",
    "    def calculate_area(self):\n",
    "        return self.length * self.width\n",
    "\n",
    "class Circle(Shape):\n",
    "\n",
    "    def __init__(self, radius):\n",
    "        self.radius = radius\n",
    "\n",
    "    def calculate_area(self):\n",
    "        return 3.14 * self.radius ** 2\n",
    "\n",
    "rectangle = Rectangle(5, 4)\n",
    "print(rectangle.calculate_area()) \n",
    "\n",
    "circle = Circle(3)\n",
    "print(circle.calculate_area())  \n"
   ]
  },
  {
   "cell_type": "code",
   "execution_count": null,
   "id": "94ddff6d-424f-448d-b83b-28483ad2c081",
   "metadata": {},
   "outputs": [],
   "source": [
    "Q2. Differentiate between Abstraction and Encapsulation. Explain with an example.\n",
    "\n",
    "Ans: Abstraction and encapsulation are two important concepts in object-oriented programming, but they serve different purposes:\n",
    "\n",
    "Abstraction focuses on hiding unnecessary details and exposing only essential features of an object. \n",
    "It deals with the overall structure and behavior of objects without diving into implementation details. \n",
    "Abstraction is achieved through abstract classes, interfaces, and abstract methods.\n",
    "\n",
    "Encapsulation, on the other hand, focuses on bundling data and methods together within a class and providing access\n",
    "to them through well-defined interfaces. It encapsulates the internal state and implementation details of an object, \n",
    "protecting them from external access. Encapsulation is achieved through access modifiers (e.g., public, private, protected) \n",
    "\\and getter/setter methods.\n",
    "\n",
    "Here's an example to illustrate the difference between abstraction and encapsulation:"
   ]
  },
  {
   "cell_type": "code",
   "execution_count": 4,
   "id": "3177b1d0-caca-4edd-bfb2-235b04a80791",
   "metadata": {},
   "outputs": [
    {
     "name": "stdout",
     "output_type": "stream",
     "text": [
      "Rectangle with length=5 and width=4\n",
      "20\n"
     ]
    }
   ],
   "source": [
    "from abc import ABC, abstractmethod\n",
    "\n",
    "# Abstraction through abstract class\n",
    "class Shape(ABC):\n",
    "\n",
    "    @abstractmethod\n",
    "    def calculate_area(self):\n",
    "        pass\n",
    "\n",
    "    def display(self):\n",
    "        print(\"This is a shape.\")\n",
    "\n",
    "# Encapsulation through class\n",
    "class Rectangle(Shape):\n",
    "\n",
    "    def __init__(self, length, width):\n",
    "        self._length = length  \n",
    "        self._width = width  \n",
    "\n",
    "    def calculate_area(self):\n",
    "        return self._length * self._width\n",
    "\n",
    "    def display(self):\n",
    "        print(f\"Rectangle with length={self._length} and width={self._width}\")\n",
    "\n",
    "rectangle = Rectangle(5, 4)\n",
    "rectangle.display()  \n",
    "print(rectangle.calculate_area())  \n"
   ]
  },
  {
   "cell_type": "code",
   "execution_count": null,
   "id": "619bb007-a27c-4b37-96fa-c68cb6561416",
   "metadata": {},
   "outputs": [],
   "source": [
    "Q3. What is the abc module in Python? Why is it used?\n",
    "\n",
    "Ans: The abc module in Python stands for \"Abstract Base Classes.\" It provides infrastructure for defining abstract base classes (ABCs) in Python. \n",
    "An abstract base class is a class that cannot be instantiated and is intended to serve as a common interface\n",
    "or blueprint for its subclasses.\n",
    "The abc module is used to enforce the structure and behavior of subclasses. It helps in defining common interfaces and ensuring that subclasses \n",
    "implement the required methods. By using abstract base classes, developers can write more maintainable and robust code \n",
    "by clearly defining the expected behavior of objects."
   ]
  },
  {
   "cell_type": "code",
   "execution_count": null,
   "id": "f3d0acc7-75bc-4d9d-973e-d843ed99ffcd",
   "metadata": {},
   "outputs": [],
   "source": [
    "Q4. How can we achieve data abstraction?\n",
    "\n",
    "Data abstraction in Python can be achieved by using abstract classes, interfaces, and abstract methods. \n",
    " the steps to achieve data abstraction:\n",
    "\n",
    "1. Import the ABC class and abstractmethod decorator from the abc module.\n",
    "2. Create an abstract base class by inheriting from ABC.\n",
    "3. Declare abstract methods within the abstract base class using the abstractmethod decorator. These methods do not contain an implementation.\n",
    "4. Subclass the abstract base class and provide concrete implementations of the abstract methods.\n",
    "5. Instantiate objects from the subclasses, and interact with them using the abstract base class."
   ]
  },
  {
   "cell_type": "code",
   "execution_count": null,
   "id": "0772624b-9c00-4c82-8c69-93452e2eef6b",
   "metadata": {},
   "outputs": [],
   "source": [
    "Q5. Can we create an instance of an abstract class? Explain your answer.\n",
    "\n",
    "Ans: No, we cannot create an instance of an abstract class in Python. An abstract class is a class that contains one or \n",
    "more abstract methods, and it is meant to be subclassed. It serves as a blueprint for creating objects of its subclasses, \n",
    "but it cannot be instantiated directly."
   ]
  }
 ],
 "metadata": {
  "kernelspec": {
   "display_name": "Python 3 (ipykernel)",
   "language": "python",
   "name": "python3"
  },
  "language_info": {
   "codemirror_mode": {
    "name": "ipython",
    "version": 3
   },
   "file_extension": ".py",
   "mimetype": "text/x-python",
   "name": "python",
   "nbconvert_exporter": "python",
   "pygments_lexer": "ipython3",
   "version": "3.10.8"
  }
 },
 "nbformat": 4,
 "nbformat_minor": 5
}
